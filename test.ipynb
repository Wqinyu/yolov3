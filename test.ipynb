{
 "cells": [
  {
   "cell_type": "code",
   "execution_count": 4,
   "id": "initial_id",
   "metadata": {
    "collapsed": true,
    "ExecuteTime": {
     "end_time": "2024-05-20T09:46:06.042497800Z",
     "start_time": "2024-05-20T09:46:02.772691500Z"
    }
   },
   "outputs": [
    {
     "name": "stdout",
     "output_type": "stream",
     "text": [
      "Loads checkpoint by local backend from path: D:\\PycharmProjects\\mmdetection\\work_dirs\\yolov3_d53_8xb8-ms-608-273e_coco\\epoch_301.pth\n"
     ]
    },
    {
     "data": {
      "text/plain": "Output()",
      "application/vnd.jupyter.widget-view+json": {
       "version_major": 2,
       "version_minor": 0,
       "model_id": "900ffbb97c8b4df8a3607954d39aadeb"
      }
     },
     "metadata": {},
     "output_type": "display_data"
    },
    {
     "data": {
      "text/plain": "",
      "text/html": "<pre style=\"white-space:pre;overflow-x:auto;line-height:normal;font-family:Menlo,'DejaVu Sans Mono',consolas,'Courier New',monospace\"></pre>\n"
     },
     "metadata": {},
     "output_type": "display_data"
    },
    {
     "data": {
      "text/plain": "\n",
      "text/html": "<pre style=\"white-space:pre;overflow-x:auto;line-height:normal;font-family:Menlo,'DejaVu Sans Mono',consolas,'Courier New',monospace\">\n</pre>\n"
     },
     "metadata": {},
     "output_type": "display_data"
    }
   ],
   "source": [
    "from mmdet.apis import DetInferencer\n",
    "\n",
    "# Choose to use a config\n",
    "model_name = \"D:\\PycharmProjects\\mmdetection\\configs\\yolo\\yolov3_d53_8xb8-ms-608-273e_coco.py\"\n",
    "# Setup a checkpoint file to load\n",
    "checkpoint = \"D:\\PycharmProjects\\mmdetection\\work_dirs\\yolov3_d53_8xb8-ms-608-273e_coco\\epoch_301.pth\"\n",
    "\n",
    "# Set the device to be used for evaluation\n",
    "device = 'cuda:0'\n",
    "\n",
    "# Initialize the DetInferencer\n",
    "inferencer = DetInferencer(model_name, checkpoint, device)\n",
    "\n",
    "# Use the detector to do inference\n",
    "img = 'D:\\PycharmProjects\\mmdetection\\\\test\\\\1.jpg'\n",
    "result = inferencer(img, out_dir='D:\\PycharmProjects\\mmdetection\\\\test_pred')"
   ]
  },
  {
   "cell_type": "code",
   "outputs": [],
   "source": [],
   "metadata": {
    "collapsed": false
   },
   "id": "69867adeed9dc9e8"
  }
 ],
 "metadata": {
  "kernelspec": {
   "display_name": "Python 3",
   "language": "python",
   "name": "python3"
  },
  "language_info": {
   "codemirror_mode": {
    "name": "ipython",
    "version": 2
   },
   "file_extension": ".py",
   "mimetype": "text/x-python",
   "name": "python",
   "nbconvert_exporter": "python",
   "pygments_lexer": "ipython2",
   "version": "2.7.6"
  }
 },
 "nbformat": 4,
 "nbformat_minor": 5
}
